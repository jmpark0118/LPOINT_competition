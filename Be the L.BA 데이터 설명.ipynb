{
  "nbformat": 4,
  "nbformat_minor": 0,
  "metadata": {
    "colab": {
      "name": "Untitled0.ipynb",
      "provenance": [],
      "collapsed_sections": []
    },
    "kernelspec": {
      "name": "python3",
      "display_name": "Python 3"
    }
  },
  "cells": [
    {
      "cell_type": "code",
      "metadata": {
        "id": "7XOzdvmLR7IV",
        "colab_type": "code",
        "colab": {
          "base_uri": "https://localhost:8080/",
          "height": 121
        },
        "outputId": "ec22966c-24e4-4610-b0fd-10ac68cf9b2e"
      },
      "source": [
        "from google.colab import drive\n",
        "drive.mount('/content/gdrive')"
      ],
      "execution_count": 1,
      "outputs": [
        {
          "output_type": "stream",
          "text": [
            "Go to this URL in a browser: https://accounts.google.com/o/oauth2/auth?client_id=947318989803-6bn6qk8qdgf4n4g3pfee6491hc0brc4i.apps.googleusercontent.com&redirect_uri=urn%3aietf%3awg%3aoauth%3a2.0%3aoob&response_type=code&scope=email%20https%3a%2f%2fwww.googleapis.com%2fauth%2fdocs.test%20https%3a%2f%2fwww.googleapis.com%2fauth%2fdrive%20https%3a%2f%2fwww.googleapis.com%2fauth%2fdrive.photos.readonly%20https%3a%2f%2fwww.googleapis.com%2fauth%2fpeopleapi.readonly\n",
            "\n",
            "Enter your authorization code:\n",
            "··········\n",
            "Mounted at /content/gdrive\n"
          ],
          "name": "stdout"
        }
      ]
    },
    {
      "cell_type": "code",
      "metadata": {
        "id": "X1n4p13DSJlG",
        "colab_type": "code",
        "colab": {}
      },
      "source": [
        "import pandas as pd"
      ],
      "execution_count": 0,
      "outputs": []
    },
    {
      "cell_type": "code",
      "metadata": {
        "id": "ICKdfPSESaEM",
        "colab_type": "code",
        "colab": {
          "base_uri": "https://localhost:8080/",
          "height": 51
        },
        "outputId": "53c0d48a-808d-4374-98d9-67c6e8acc779"
      },
      "source": [
        "product = pd.read_csv('/content/gdrive/My Drive/LPOINT/01.Product.csv')\n",
        "search1 = pd.read_csv('/content/gdrive/My Drive/LPOINT/02.Search1.csv')\n",
        "search2 = pd.read_csv('/content/gdrive/My Drive/LPOINT/03.Search2.csv')\n",
        "custom = pd.read_csv('/content/gdrive/My Drive/LPOINT/04.Custom.csv')\n",
        "session = pd.read_csv('/content/gdrive/My Drive/LPOINT/05.Session.csv')\n",
        "master = pd.read_csv('/content/gdrive/My Drive/LPOINT/06.Master.csv')"
      ],
      "execution_count": 12,
      "outputs": [
        {
          "output_type": "stream",
          "text": [
            "/usr/local/lib/python3.6/dist-packages/IPython/core/interactiveshell.py:2718: DtypeWarning: Columns (7) have mixed types.Specify dtype option on import or set low_memory=False.\n",
            "  interactivity=interactivity, compiler=compiler, result=result)\n"
          ],
          "name": "stderr"
        }
      ]
    },
    {
      "cell_type": "code",
      "metadata": {
        "id": "_n6efeolSe6W",
        "colab_type": "code",
        "colab": {
          "base_uri": "https://localhost:8080/",
          "height": 118
        },
        "outputId": "4e23acd4-e903-4570-f6d8-9c0dd3ba674b"
      },
      "source": [
        "print(product.shape)\n",
        "print(search1.shape)\n",
        "print(search2.shape)\n",
        "print(custom.shape)\n",
        "print(session.shape)\n",
        "print(master.shape)"
      ],
      "execution_count": 13,
      "outputs": [
        {
          "output_type": "stream",
          "text": [
            "(5024906, 8)\n",
            "(2884943, 4)\n",
            "(8051172, 3)\n",
            "(671679, 3)\n",
            "(2712907, 9)\n",
            "(847652, 5)\n"
          ],
          "name": "stdout"
        }
      ]
    },
    {
      "cell_type": "code",
      "metadata": {
        "id": "igga0UURSdHK",
        "colab_type": "code",
        "colab": {
          "base_uri": "https://localhost:8080/",
          "height": 194
        },
        "outputId": "aa869fff-ff63-42ab-c66d-25d371ddde30"
      },
      "source": [
        "product.head()"
      ],
      "execution_count": 4,
      "outputs": [
        {
          "output_type": "execute_result",
          "data": {
            "text/html": [
              "<div>\n",
              "<style scoped>\n",
              "    .dataframe tbody tr th:only-of-type {\n",
              "        vertical-align: middle;\n",
              "    }\n",
              "\n",
              "    .dataframe tbody tr th {\n",
              "        vertical-align: top;\n",
              "    }\n",
              "\n",
              "    .dataframe thead th {\n",
              "        text-align: right;\n",
              "    }\n",
              "</style>\n",
              "<table border=\"1\" class=\"dataframe\">\n",
              "  <thead>\n",
              "    <tr style=\"text-align: right;\">\n",
              "      <th></th>\n",
              "      <th>CLNT_ID</th>\n",
              "      <th>SESS_ID</th>\n",
              "      <th>HITS_SEQ</th>\n",
              "      <th>PD_C</th>\n",
              "      <th>PD_ADD_NM</th>\n",
              "      <th>PD_BRA_NM</th>\n",
              "      <th>PD_BUY_AM</th>\n",
              "      <th>PD_BUY_CT</th>\n",
              "    </tr>\n",
              "  </thead>\n",
              "  <tbody>\n",
              "    <tr>\n",
              "      <th>0</th>\n",
              "      <td>4139680</td>\n",
              "      <td>7605037</td>\n",
              "      <td>12</td>\n",
              "      <td>642112</td>\n",
              "      <td>색상:워터멜론</td>\n",
              "      <td>[바비브라운]</td>\n",
              "      <td>39,000</td>\n",
              "      <td>1</td>\n",
              "    </tr>\n",
              "    <tr>\n",
              "      <th>1</th>\n",
              "      <td>4140076</td>\n",
              "      <td>10189797</td>\n",
              "      <td>13</td>\n",
              "      <td>570603</td>\n",
              "      <td>색상:BLK0_(BLK0)BLACK|사이즈:120 / 2개</td>\n",
              "      <td>데상트</td>\n",
              "      <td>39,000</td>\n",
              "      <td>2</td>\n",
              "    </tr>\n",
              "    <tr>\n",
              "      <th>2</th>\n",
              "      <td>4142395</td>\n",
              "      <td>6158159</td>\n",
              "      <td>85</td>\n",
              "      <td>179538</td>\n",
              "      <td>(not set)</td>\n",
              "      <td>[아베다]</td>\n",
              "      <td>39,000</td>\n",
              "      <td>1</td>\n",
              "    </tr>\n",
              "    <tr>\n",
              "      <th>3</th>\n",
              "      <td>4144914</td>\n",
              "      <td>7935714</td>\n",
              "      <td>12</td>\n",
              "      <td>554336</td>\n",
              "      <td>색상:블랙|사이즈:160cm(12~13세) / 1개</td>\n",
              "      <td>아디다스 키즈</td>\n",
              "      <td>39,000</td>\n",
              "      <td>1</td>\n",
              "    </tr>\n",
              "    <tr>\n",
              "      <th>4</th>\n",
              "      <td>4144917</td>\n",
              "      <td>6406509</td>\n",
              "      <td>78</td>\n",
              "      <td>190306</td>\n",
              "      <td>5개</td>\n",
              "      <td>데코르테</td>\n",
              "      <td>39,000</td>\n",
              "      <td>5</td>\n",
              "    </tr>\n",
              "  </tbody>\n",
              "</table>\n",
              "</div>"
            ],
            "text/plain": [
              "   CLNT_ID   SESS_ID  HITS_SEQ  ...  PD_BRA_NM PD_BUY_AM PD_BUY_CT\n",
              "0  4139680   7605037        12  ...    [바비브라운]    39,000         1\n",
              "1  4140076  10189797        13  ...        데상트    39,000         2\n",
              "2  4142395   6158159        85  ...      [아베다]    39,000         1\n",
              "3  4144914   7935714        12  ...    아디다스 키즈    39,000         1\n",
              "4  4144917   6406509        78  ...       데코르테    39,000         5\n",
              "\n",
              "[5 rows x 8 columns]"
            ]
          },
          "metadata": {
            "tags": []
          },
          "execution_count": 4
        }
      ]
    },
    {
      "cell_type": "code",
      "metadata": {
        "id": "LpXJRCpUSiqp",
        "colab_type": "code",
        "colab": {
          "base_uri": "https://localhost:8080/",
          "height": 194
        },
        "outputId": "ec131993-f38f-4d85-d7fd-e2a440fe4d13"
      },
      "source": [
        "search1.head()"
      ],
      "execution_count": 9,
      "outputs": [
        {
          "output_type": "execute_result",
          "data": {
            "text/html": [
              "<div>\n",
              "<style scoped>\n",
              "    .dataframe tbody tr th:only-of-type {\n",
              "        vertical-align: middle;\n",
              "    }\n",
              "\n",
              "    .dataframe tbody tr th {\n",
              "        vertical-align: top;\n",
              "    }\n",
              "\n",
              "    .dataframe thead th {\n",
              "        text-align: right;\n",
              "    }\n",
              "</style>\n",
              "<table border=\"1\" class=\"dataframe\">\n",
              "  <thead>\n",
              "    <tr style=\"text-align: right;\">\n",
              "      <th></th>\n",
              "      <th>CLNT_ID</th>\n",
              "      <th>SESS_ID</th>\n",
              "      <th>KWD_NM</th>\n",
              "      <th>SEARCH_CNT</th>\n",
              "    </tr>\n",
              "  </thead>\n",
              "  <tbody>\n",
              "    <tr>\n",
              "      <th>0</th>\n",
              "      <td>5607714</td>\n",
              "      <td>7112876</td>\n",
              "      <td>빌리프 아이크림</td>\n",
              "      <td>6</td>\n",
              "    </tr>\n",
              "    <tr>\n",
              "      <th>1</th>\n",
              "      <td>5607714</td>\n",
              "      <td>4090791</td>\n",
              "      <td>프리메라 마스크팩</td>\n",
              "      <td>3</td>\n",
              "    </tr>\n",
              "    <tr>\n",
              "      <th>2</th>\n",
              "      <td>5607714</td>\n",
              "      <td>4090791</td>\n",
              "      <td>여성청결제</td>\n",
              "      <td>1</td>\n",
              "    </tr>\n",
              "    <tr>\n",
              "      <th>3</th>\n",
              "      <td>5612428</td>\n",
              "      <td>1876482</td>\n",
              "      <td>명품가방</td>\n",
              "      <td>1</td>\n",
              "    </tr>\n",
              "    <tr>\n",
              "      <th>4</th>\n",
              "      <td>5612428</td>\n",
              "      <td>658123</td>\n",
              "      <td>콩순이 아이스크림</td>\n",
              "      <td>1</td>\n",
              "    </tr>\n",
              "  </tbody>\n",
              "</table>\n",
              "</div>"
            ],
            "text/plain": [
              "   CLNT_ID  SESS_ID     KWD_NM  SEARCH_CNT\n",
              "0  5607714  7112876   빌리프 아이크림           6\n",
              "1  5607714  4090791  프리메라 마스크팩           3\n",
              "2  5607714  4090791      여성청결제           1\n",
              "3  5612428  1876482       명품가방           1\n",
              "4  5612428   658123  콩순이 아이스크림           1"
            ]
          },
          "metadata": {
            "tags": []
          },
          "execution_count": 9
        }
      ]
    },
    {
      "cell_type": "code",
      "metadata": {
        "id": "YW-40XMDS-Vf",
        "colab_type": "code",
        "colab": {
          "base_uri": "https://localhost:8080/",
          "height": 194
        },
        "outputId": "4954c261-dd19-4847-8eef-09c1b26092ee"
      },
      "source": [
        "search2.head()"
      ],
      "execution_count": 14,
      "outputs": [
        {
          "output_type": "execute_result",
          "data": {
            "text/html": [
              "<div>\n",
              "<style scoped>\n",
              "    .dataframe tbody tr th:only-of-type {\n",
              "        vertical-align: middle;\n",
              "    }\n",
              "\n",
              "    .dataframe tbody tr th {\n",
              "        vertical-align: top;\n",
              "    }\n",
              "\n",
              "    .dataframe thead th {\n",
              "        text-align: right;\n",
              "    }\n",
              "</style>\n",
              "<table border=\"1\" class=\"dataframe\">\n",
              "  <thead>\n",
              "    <tr style=\"text-align: right;\">\n",
              "      <th></th>\n",
              "      <th>SESS_DT</th>\n",
              "      <th>KWD_NM</th>\n",
              "      <th>SEARCH_CNT</th>\n",
              "    </tr>\n",
              "  </thead>\n",
              "  <tbody>\n",
              "    <tr>\n",
              "      <th>0</th>\n",
              "      <td>20180407</td>\n",
              "      <td>닥스원피스</td>\n",
              "      <td>8</td>\n",
              "    </tr>\n",
              "    <tr>\n",
              "      <th>1</th>\n",
              "      <td>20180407</td>\n",
              "      <td>닥터지 브라이트닝</td>\n",
              "      <td>1</td>\n",
              "    </tr>\n",
              "    <tr>\n",
              "      <th>2</th>\n",
              "      <td>20180407</td>\n",
              "      <td>달팡 인트랄</td>\n",
              "      <td>2</td>\n",
              "    </tr>\n",
              "    <tr>\n",
              "      <th>3</th>\n",
              "      <td>20180407</td>\n",
              "      <td>대상트</td>\n",
              "      <td>1</td>\n",
              "    </tr>\n",
              "    <tr>\n",
              "      <th>4</th>\n",
              "      <td>20180407</td>\n",
              "      <td>더블유닷</td>\n",
              "      <td>6</td>\n",
              "    </tr>\n",
              "  </tbody>\n",
              "</table>\n",
              "</div>"
            ],
            "text/plain": [
              "    SESS_DT     KWD_NM SEARCH_CNT\n",
              "0  20180407      닥스원피스          8\n",
              "1  20180407  닥터지 브라이트닝          1\n",
              "2  20180407     달팡 인트랄          2\n",
              "3  20180407        대상트          1\n",
              "4  20180407       더블유닷          6"
            ]
          },
          "metadata": {
            "tags": []
          },
          "execution_count": 14
        }
      ]
    },
    {
      "cell_type": "code",
      "metadata": {
        "id": "QfaFMQ8-T5iB",
        "colab_type": "code",
        "colab": {
          "base_uri": "https://localhost:8080/",
          "height": 194
        },
        "outputId": "b98a2bec-f386-463c-fa9b-55800da28a95"
      },
      "source": [
        "custom.head()"
      ],
      "execution_count": 15,
      "outputs": [
        {
          "output_type": "execute_result",
          "data": {
            "text/html": [
              "<div>\n",
              "<style scoped>\n",
              "    .dataframe tbody tr th:only-of-type {\n",
              "        vertical-align: middle;\n",
              "    }\n",
              "\n",
              "    .dataframe tbody tr th {\n",
              "        vertical-align: top;\n",
              "    }\n",
              "\n",
              "    .dataframe thead th {\n",
              "        text-align: right;\n",
              "    }\n",
              "</style>\n",
              "<table border=\"1\" class=\"dataframe\">\n",
              "  <thead>\n",
              "    <tr style=\"text-align: right;\">\n",
              "      <th></th>\n",
              "      <th>CLNT_ID</th>\n",
              "      <th>CLNT_GENDER</th>\n",
              "      <th>CLNT_AGE</th>\n",
              "    </tr>\n",
              "  </thead>\n",
              "  <tbody>\n",
              "    <tr>\n",
              "      <th>0</th>\n",
              "      <td>4830726</td>\n",
              "      <td>F</td>\n",
              "      <td>30</td>\n",
              "    </tr>\n",
              "    <tr>\n",
              "      <th>1</th>\n",
              "      <td>4830874</td>\n",
              "      <td>F</td>\n",
              "      <td>40</td>\n",
              "    </tr>\n",
              "    <tr>\n",
              "      <th>2</th>\n",
              "      <td>4830975</td>\n",
              "      <td>F</td>\n",
              "      <td>30</td>\n",
              "    </tr>\n",
              "    <tr>\n",
              "      <th>3</th>\n",
              "      <td>4831275</td>\n",
              "      <td>F</td>\n",
              "      <td>30</td>\n",
              "    </tr>\n",
              "    <tr>\n",
              "      <th>4</th>\n",
              "      <td>4825325</td>\n",
              "      <td>F</td>\n",
              "      <td>30</td>\n",
              "    </tr>\n",
              "  </tbody>\n",
              "</table>\n",
              "</div>"
            ],
            "text/plain": [
              "   CLNT_ID CLNT_GENDER  CLNT_AGE\n",
              "0  4830726           F        30\n",
              "1  4830874           F        40\n",
              "2  4830975           F        30\n",
              "3  4831275           F        30\n",
              "4  4825325           F        30"
            ]
          },
          "metadata": {
            "tags": []
          },
          "execution_count": 15
        }
      ]
    },
    {
      "cell_type": "code",
      "metadata": {
        "id": "BfwHkrduT6m6",
        "colab_type": "code",
        "colab": {
          "base_uri": "https://localhost:8080/",
          "height": 194
        },
        "outputId": "be1f9a4d-d47b-4cb4-980a-c79709cce5cd"
      },
      "source": [
        "session.head()"
      ],
      "execution_count": 16,
      "outputs": [
        {
          "output_type": "execute_result",
          "data": {
            "text/html": [
              "<div>\n",
              "<style scoped>\n",
              "    .dataframe tbody tr th:only-of-type {\n",
              "        vertical-align: middle;\n",
              "    }\n",
              "\n",
              "    .dataframe tbody tr th {\n",
              "        vertical-align: top;\n",
              "    }\n",
              "\n",
              "    .dataframe thead th {\n",
              "        text-align: right;\n",
              "    }\n",
              "</style>\n",
              "<table border=\"1\" class=\"dataframe\">\n",
              "  <thead>\n",
              "    <tr style=\"text-align: right;\">\n",
              "      <th></th>\n",
              "      <th>CLNT_ID</th>\n",
              "      <th>SESS_ID</th>\n",
              "      <th>SESS_SEQ</th>\n",
              "      <th>SESS_DT</th>\n",
              "      <th>TOT_PAG_VIEW_CT</th>\n",
              "      <th>TOT_SESS_HR_V</th>\n",
              "      <th>DVC_CTG_NM</th>\n",
              "      <th>ZON_NM</th>\n",
              "      <th>CITY_NM</th>\n",
              "    </tr>\n",
              "  </thead>\n",
              "  <tbody>\n",
              "    <tr>\n",
              "      <th>0</th>\n",
              "      <td>5873599</td>\n",
              "      <td>8641867</td>\n",
              "      <td>9</td>\n",
              "      <td>20180509</td>\n",
              "      <td>82.0</td>\n",
              "      <td>1,890</td>\n",
              "      <td>mobile</td>\n",
              "      <td>Daejeon</td>\n",
              "      <td>Daejeon</td>\n",
              "    </tr>\n",
              "    <tr>\n",
              "      <th>1</th>\n",
              "      <td>5873599</td>\n",
              "      <td>6616320</td>\n",
              "      <td>21</td>\n",
              "      <td>20180611</td>\n",
              "      <td>105.0</td>\n",
              "      <td>1,604</td>\n",
              "      <td>mobile</td>\n",
              "      <td>Busan</td>\n",
              "      <td>Busan</td>\n",
              "    </tr>\n",
              "    <tr>\n",
              "      <th>2</th>\n",
              "      <td>5873599</td>\n",
              "      <td>5886172</td>\n",
              "      <td>40</td>\n",
              "      <td>20180624</td>\n",
              "      <td>41.0</td>\n",
              "      <td>632</td>\n",
              "      <td>mobile</td>\n",
              "      <td>Daejeon</td>\n",
              "      <td>Daejeon</td>\n",
              "    </tr>\n",
              "    <tr>\n",
              "      <th>3</th>\n",
              "      <td>5873884</td>\n",
              "      <td>1050889</td>\n",
              "      <td>15</td>\n",
              "      <td>20180913</td>\n",
              "      <td>160.0</td>\n",
              "      <td>1,035</td>\n",
              "      <td>mobile</td>\n",
              "      <td>Gyeonggi-do</td>\n",
              "      <td>Anyang</td>\n",
              "    </tr>\n",
              "    <tr>\n",
              "      <th>4</th>\n",
              "      <td>5874461</td>\n",
              "      <td>10298270</td>\n",
              "      <td>5</td>\n",
              "      <td>20180412</td>\n",
              "      <td>13.0</td>\n",
              "      <td>298</td>\n",
              "      <td>mobile</td>\n",
              "      <td>Seoul</td>\n",
              "      <td>Seoul</td>\n",
              "    </tr>\n",
              "  </tbody>\n",
              "</table>\n",
              "</div>"
            ],
            "text/plain": [
              "   CLNT_ID   SESS_ID  SESS_SEQ  ...  DVC_CTG_NM       ZON_NM  CITY_NM\n",
              "0  5873599   8641867         9  ...      mobile      Daejeon  Daejeon\n",
              "1  5873599   6616320        21  ...      mobile        Busan    Busan\n",
              "2  5873599   5886172        40  ...      mobile      Daejeon  Daejeon\n",
              "3  5873884   1050889        15  ...      mobile  Gyeonggi-do   Anyang\n",
              "4  5874461  10298270         5  ...      mobile        Seoul    Seoul\n",
              "\n",
              "[5 rows x 9 columns]"
            ]
          },
          "metadata": {
            "tags": []
          },
          "execution_count": 16
        }
      ]
    },
    {
      "cell_type": "code",
      "metadata": {
        "id": "TtBlLD2dT73a",
        "colab_type": "code",
        "colab": {
          "base_uri": "https://localhost:8080/",
          "height": 194
        },
        "outputId": "0ee4b1fa-fa14-491b-dfca-96b413fcba32"
      },
      "source": [
        "master.head()"
      ],
      "execution_count": 17,
      "outputs": [
        {
          "output_type": "execute_result",
          "data": {
            "text/html": [
              "<div>\n",
              "<style scoped>\n",
              "    .dataframe tbody tr th:only-of-type {\n",
              "        vertical-align: middle;\n",
              "    }\n",
              "\n",
              "    .dataframe tbody tr th {\n",
              "        vertical-align: top;\n",
              "    }\n",
              "\n",
              "    .dataframe thead th {\n",
              "        text-align: right;\n",
              "    }\n",
              "</style>\n",
              "<table border=\"1\" class=\"dataframe\">\n",
              "  <thead>\n",
              "    <tr style=\"text-align: right;\">\n",
              "      <th></th>\n",
              "      <th>PD_C</th>\n",
              "      <th>PD_NM</th>\n",
              "      <th>CLAC1_NM</th>\n",
              "      <th>CLAC2_NM</th>\n",
              "      <th>CLAC3_NM</th>\n",
              "    </tr>\n",
              "  </thead>\n",
              "  <tbody>\n",
              "    <tr>\n",
              "      <th>0</th>\n",
              "      <td>64382</td>\n",
              "      <td>언더아머 남성 UA HG 아머 모크 LS 1289559-001 - 블랙 / MD[95]</td>\n",
              "      <td>스포츠패션</td>\n",
              "      <td>남성일반스포츠의류</td>\n",
              "      <td>남성스포츠티셔츠</td>\n",
              "    </tr>\n",
              "    <tr>\n",
              "      <th>1</th>\n",
              "      <td>62282</td>\n",
              "      <td>여자 플라워덧신 2족선물세트 17403-2set</td>\n",
              "      <td>속옷/양말/홈웨어</td>\n",
              "      <td>여성양말류</td>\n",
              "      <td>여성일반양말</td>\n",
              "    </tr>\n",
              "    <tr>\n",
              "      <th>2</th>\n",
              "      <td>61729</td>\n",
              "      <td>88A2933253배트맨스웨트티 - 블랙 / 130</td>\n",
              "      <td>유아동의류</td>\n",
              "      <td>유아의류상의</td>\n",
              "      <td>영유아티셔츠/탑</td>\n",
              "    </tr>\n",
              "    <tr>\n",
              "      <th>3</th>\n",
              "      <td>61537</td>\n",
              "      <td>닥터마틴 아드리안 블랙, 체리레드 - 02_체리레드 / 250mm(6)</td>\n",
              "      <td>패션잡화</td>\n",
              "      <td>남성화</td>\n",
              "      <td>남성부츠</td>\n",
              "    </tr>\n",
              "    <tr>\n",
              "      <th>4</th>\n",
              "      <td>58820</td>\n",
              "      <td>여성 그레이 스트라이프 퍼프 소매 블라우스 (128865YQ33) - 회색(앤틱실버...</td>\n",
              "      <td>남성의류</td>\n",
              "      <td>남성의류상의</td>\n",
              "      <td>남성남방셔츠</td>\n",
              "    </tr>\n",
              "  </tbody>\n",
              "</table>\n",
              "</div>"
            ],
            "text/plain": [
              "    PD_C  ...  CLAC3_NM\n",
              "0  64382  ...  남성스포츠티셔츠\n",
              "1  62282  ...    여성일반양말\n",
              "2  61729  ...  영유아티셔츠/탑\n",
              "3  61537  ...      남성부츠\n",
              "4  58820  ...    남성남방셔츠\n",
              "\n",
              "[5 rows x 5 columns]"
            ]
          },
          "metadata": {
            "tags": []
          },
          "execution_count": 17
        }
      ]
    },
    {
      "cell_type": "code",
      "metadata": {
        "id": "jcvRSsUzT8v_",
        "colab_type": "code",
        "colab": {}
      },
      "source": [
        ""
      ],
      "execution_count": 0,
      "outputs": []
    }
  ]
}